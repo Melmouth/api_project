{
  "nbformat": 4,
  "nbformat_minor": 0,
  "metadata": {
    "colab": {
      "provenance": []
    },
    "kernelspec": {
      "name": "python3",
      "display_name": "Python 3"
    },
    "language_info": {
      "name": "python"
    }
  },
  "cells": [
    {
      "cell_type": "code",
      "execution_count": 15,
      "metadata": {
        "colab": {
          "base_uri": "https://localhost:8080/"
        },
        "id": "iqsrrjod-Odw",
        "outputId": "d4493f5a-a8f8-4edf-fd32-6282527a00b4"
      },
      "outputs": [
        {
          "output_type": "stream",
          "name": "stdout",
          "text": [
            "Réponse du serveur :\n",
            "{'prediction': 35991.171875}\n"
          ]
        }
      ],
      "source": [
        "import requests\n",
        "\n",
        "url = 'https://api-project-d7ao.onrender.com/predict'\n",
        "data = {\n",
        "  \"prod_year\": 2020,\n",
        "  \"mileage\": 50000,\n",
        "  \"cylinders\": 4,\n",
        "  \"airbags\": 2,\n",
        "  \"fuel_cng\": False,\n",
        "  \"fuel_diesel\": False,\n",
        "  \"fuel_hybrid\": False,\n",
        "  \"fuel_hydrogen\": False,\n",
        "  \"fuel_lpg\": False,\n",
        "  \"fuel_petrol\": True,\n",
        "  \"fuel_plugin_hybrid\": False\n",
        "}\n",
        "\n",
        "try:\n",
        "    response = requests.post(url, json=data)\n",
        "    response.raise_for_status()  # Vérifie si la requête a réussi\n",
        "    print(\"Réponse du serveur :\")\n",
        "    print(response.json())\n",
        "except requests.exceptions.HTTPError as http_err:\n",
        "    print(f\"Erreur HTTP : {http_err}\")\n",
        "except Exception as err:\n",
        "    print(f\"Autre erreur : {err}\")\n"
      ]
    },
    {
      "cell_type": "code",
      "source": [],
      "metadata": {
        "id": "L75o1Mc1-PC_"
      },
      "execution_count": 4,
      "outputs": []
    }
  ]
}